{
  "nbformat": 4,
  "nbformat_minor": 0,
  "metadata": {
    "colab": {
      "provenance": [],
      "include_colab_link": true
    },
    "kernelspec": {
      "name": "python3",
      "display_name": "Python 3"
    },
    "language_info": {
      "name": "python"
    }
  },
  "cells": [
    {
      "cell_type": "markdown",
      "metadata": {
        "id": "view-in-github",
        "colab_type": "text"
      },
      "source": [
        "<a href=\"https://colab.research.google.com/github/MegaVictinixyz/GenAI-GDG-project/blob/main/GenAI_Task_1.ipynb\" target=\"_parent\"><img src=\"https://colab.research.google.com/assets/colab-badge.svg\" alt=\"Open In Colab\"/></a>"
      ]
    },
    {
      "cell_type": "markdown",
      "source": [
        "# Task - 1\n",
        "## Approx itne time me daredevil season 2 bhi mere laptop se phone me nhi gya :(\n"
      ],
      "metadata": {
        "id": "-H-59JzotqkP"
      }
    },
    {
      "cell_type": "code",
      "source": [
        "import requests\n",
        "from bs4 import BeautifulSoup\n",
        "import time\n",
        "\n",
        "def scrape_poems(url):\n",
        "    response = requests.get(url)\n",
        "    if response.status_code == 200:\n",
        "        soup = BeautifulSoup(response.content, 'html.parser')\n",
        "        poems = []\n",
        "        rows = soup.find('table', class_='cols-3').find_all('tr')           #there was a table with 3 columns in the webpage this extracts all its rows\n",
        "        if not rows:\n",
        "            print(\"No articles found with the specified class.\")\n",
        "            return\n",
        "        for row in rows:\n",
        "            title_cell = row.find('td', class_=\"views-field views-field-title\")     # this is the column 1 of each row\n",
        "            poet_cell = row.find('td', class_=\"views-field views-field-field-author\") # this is the second column of the row\n",
        "            if title_cell and poet_cell:\n",
        "\n",
        "                title = title_cell.find('a').text.strip()                          # each cell had just one 'a' tag with the text and the link in 'href'\n",
        "                poem_url = \"https://poets.org\" + title_cell.find('a')['href']\n",
        "                poet = poet_cell.find('a').text.strip()\n",
        "\n",
        "                print(f\"Title: {title}, Poem URL: {poem_url}, Poet: {poet}\")\n",
        "                poems.append([title, poem_url, poet])\n",
        "\n",
        "                            # rest of the code is same as yours\n",
        "\n",
        "                            # plus mine doesn't print the first poem twice ;)\n",
        "\n",
        "    else:\n",
        "        print(f\"Failed to retrieve page: {response.status_code}\")\n",
        "\n",
        "\n",
        "total_pages = 5    #the number of pages you want to scrape there are total of 784\n",
        "\n",
        "for pg in range(total_pages):   # es for loop ke the brownie points ? :(\n",
        "  scrape_poems(\"https://poets.org/poems?page=\"+str(pg))\n",
        "\n"
      ],
      "metadata": {
        "colab": {
          "base_uri": "https://localhost:8080/"
        },
        "id": "bQ7DwtXxmonQ",
        "outputId": "be87a500-6fef-4dfd-fee4-73eca98e481a"
      },
      "execution_count": null,
      "outputs": [
        {
          "output_type": "stream",
          "name": "stdout",
          "text": [
            "Title: A Line-storm Song, Poem URL: https://poets.org/poem/line-storm-song, Poet: Robert Frost\n",
            "Title: The Weary Blues, Poem URL: https://poets.org/poem/weary-blues, Poet: Langston Hughes\n",
            "Title: Morning in the Burned House, Poem URL: https://poets.org/poem/morning-burned-house, Poet: Margaret Atwood\n",
            "Title: On Living, Poem URL: https://poets.org/poem/living, Poet: Nâzim Hikmet\n",
            "Title: I Could Be a Whale Shark, Poem URL: https://poets.org/poem/i-could-be-whale-shark, Poet: Aimee Nezhukumatathil\n",
            "Title: Batter my heart, three person'd God (Holy Sonnet 14), Poem URL: https://poets.org/poem/batter-my-heart-three-persond-god-holy-sonnet-14, Poet: John Donne\n",
            "Title: Theme for English B, Poem URL: https://poets.org/poem/theme-english-b, Poet: Langston Hughes\n",
            "Title: The Negro Speaks of Rivers, Poem URL: https://poets.org/poem/negro-speaks-rivers, Poet: Langston Hughes\n",
            "Title: Throwing Children, Poem URL: https://poets.org/poem/throwing-children, Poet: Ross Gay\n",
            "Title: Poem [Lana Turner has collapsed!], Poem URL: https://poets.org/poem/poem-lana-turner-has-collapsed, Poet: Frank O’Hara\n",
            "Title: Dream Variations, Poem URL: https://poets.org/poem/dream-variations, Poet: Langston Hughes\n",
            "Title: In the Waiting Room, Poem URL: https://poets.org/poem/waiting-room, Poet: Elizabeth Bishop\n",
            "Title: [The cry of the cicada], Poem URL: https://poets.org/poem/cry-cicada, Poet: Matsuo Bashō\n",
            "Title: At the Zoo, Poem URL: https://poets.org/poem/zoo, Poet: William Makepeace Thackeray\n",
            "Title: Dear March—Come in—(1320), Poem URL: https://poets.org/poem/dear-march-come-1320, Poet: Emily Dickinson\n",
            "Title: Haunted Houses, Poem URL: https://poets.org/poem/haunted-houses, Poet: Henry Wadsworth Longfellow\n",
            "Title: Halloween, Poem URL: https://poets.org/poem/halloween, Poet: Robert Burns\n",
            "Title: The moon rose over the bay. I had a lot of feelings., Poem URL: https://poets.org/poem/moon-rose-over-bay-i-had-lot-feelings, Poet: Donika Kelly\n",
            "Title: Christmas Bells, Poem URL: https://poets.org/poem/christmas-bells, Poet: Henry Wadsworth Longfellow\n",
            "Title: “The world is a beautiful place”, Poem URL: https://poets.org/poem/world-beautiful-place, Poet: Lawrence Ferlinghetti\n",
            "Title: Mr. Macklin’s Jack O’Lantern, Poem URL: https://poets.org/poem/mr-macklins-jack-olantern, Poet: David McCord\n",
            "Title: Middle Passage, Poem URL: https://poets.org/poem/middle-passage, Poet: Robert Hayden\n",
            "Title: One Sister have I in our house (14), Poem URL: https://poets.org/poem/one-sister-have-i-our-house-14, Poet: Emily Dickinson\n",
            "Title: Thanksgiving Day, Poem URL: https://poets.org/poem/thanksgiving-day, Poet: Lydia Maria Child\n",
            "Title: Thanksgiving, Poem URL: https://poets.org/poem/thanksgiving-1, Poet: Ella Wheeler Wilcox\n",
            "Title: A Brief History of Hostility, Poem URL: https://poets.org/poem/brief-history-hostility, Poet: Jamaal May\n",
            "Title: For My People, Poem URL: https://poets.org/poem/my-people, Poet: Margaret Walker\n",
            "Title: Vaccinated, Poem URL: https://poets.org/poem/vaccinated, Poet: Jericho Brown\n",
            "Title: To the Virgins, to Make Much of Time, Poem URL: https://poets.org/poem/virgins-make-much-time, Poet: Robert Herrick\n",
            "Title: Leda and the Swan, Poem URL: https://poets.org/poem/leda-and-swan, Poet: W. B. Yeats\n",
            "Title: To make a prairie (1755), Poem URL: https://poets.org/poem/make-prairie-1755, Poet: Emily Dickinson\n",
            "Title: A Christmas Carol, Poem URL: https://poets.org/poem/christmas-carol, Poet: Christina Rossetti\n",
            "Title: Coherence in Consequence, Poem URL: https://poets.org/poem/coherence-consequence, Poet: Claudia Rankine\n",
            "Title: Let Them Not Say, Poem URL: https://poets.org/poem/let-them-not-say, Poet: Jane Hirshfield\n",
            "Title: What I Am, Poem URL: https://poets.org/poem/what-i-am, Poet: Terrance Hayes\n",
            "Title: We Should Make a Documentary About Spades, Poem URL: https://poets.org/poem/we-should-make-documentary-about-spades, Poet: Terrance Hayes\n",
            "Title: Christmas Carol, Poem URL: https://poets.org/poem/christmas-carol-2, Poet: Paul Laurence Dunbar\n",
            "Title: The Owl and the Pussy-Cat, Poem URL: https://poets.org/poem/owl-and-pussy-cat, Poet: Edward Lear\n",
            "Title: A Visit from St. Nicholas, Poem URL: https://poets.org/poem/visit-st-nicholas, Poet: Clement Clarke Moore\n",
            "Title: Hurricane, Poem URL: https://poets.org/poem/hurricane-0, Poet: Yona Harvey\n",
            "Title: On Being Brought from Africa to America, Poem URL: https://poets.org/poem/being-brought-africa-america, Poet: Phillis Wheatley\n",
            "Title: Auld Lang Syne, Poem URL: https://poets.org/poem/auld-lang-syne, Poet: Robert Burns\n",
            "Title: Alone, Poem URL: https://poets.org/poem/alone, Poet: Maya Angelou\n",
            "Title: maggie and milly and molly and may, Poem URL: https://poets.org/poem/maggie-and-milly-and-molly-and-may, Poet: E. E. Cummings\n",
            "Title: Lenore, Poem URL: https://poets.org/poem/lenore, Poet: Edgar Allan Poe\n",
            "Title: [little tree], Poem URL: https://poets.org/poem/little-tree, Poet: E. E. Cummings\n",
            "Title: Heart to Heart, Poem URL: https://poets.org/poem/heart-heart, Poet: Rita Dove\n",
            "Title: To Autumn, Poem URL: https://poets.org/poem/autumn, Poet: John Keats\n",
            "Title: My mistress’ eyes are nothing like the sun (Sonnet 130), Poem URL: https://poets.org/poem/my-mistress-eyes-are-nothing-sun-sonnet-130, Poet: William Shakespeare\n",
            "Title: On Death, Poem URL: https://poets.org/poem/death, Poet: Kahlil Gibran\n",
            "Title: A Prayer for my Daughter, Poem URL: https://poets.org/poem/prayer-my-daughter, Poet: W. B. Yeats\n",
            "Title: Shoulders, Poem URL: https://poets.org/poem/shoulders, Poet: Naomi Shihab Nye\n",
            "Title: On Marriage, Poem URL: https://poets.org/poem/marriage-3, Poet: Kahlil Gibran\n",
            "Title: The Ballad of Reading Gaol, Poem URL: https://poets.org/poem/ballad-reading-gaol, Poet: Oscar Wilde\n",
            "Title: This Is Not a Small Voice, Poem URL: https://poets.org/poem/not-small-voice, Poet: Sonia Sanchez\n",
            "Title: Heartbeats, Poem URL: https://poets.org/poem/heartbeats, Poet: Melvin Dixon\n",
            "Title: won’t you celebrate with me, Poem URL: https://poets.org/poem/wont-you-celebrate-me, Poet: Lucille Clifton\n",
            "Title: Ecclesiastes 3:1-8, Poem URL: https://poets.org/poem/ecclesiastes-31-8, Poet: Anonymous\n",
            "Title: I Must Become a Menace to My Enemies, Poem URL: https://poets.org/poem/i-must-become-menace-my-enemies, Poet: June Jordan\n",
            "Title: I cannot live with You (640), Poem URL: https://poets.org/poem/i-cannot-live-you-640, Poet: Emily Dickinson\n",
            "Title: She Walks in Beauty, Poem URL: https://poets.org/poem/she-walks-beauty, Poet: George Gordon Byron\n",
            "Title: The Heart of the Tree, Poem URL: https://poets.org/poem/heart-tree, Poet: Henry Cuyler Bunner\n",
            "Title: The Star-Spangled Banner, Poem URL: https://poets.org/poem/star-spangled-banner, Poet: Francis Scott Key\n",
            "Title: Poetry, Poem URL: https://poets.org/poem/poetry, Poet: Marianne Moore\n",
            "Title: American History, Poem URL: https://poets.org/poem/american-history, Poet: Michael S. Harper\n",
            "Title: The Shield of Achilles, Poem URL: https://poets.org/poem/shield-achilles, Poet: W. H. Auden\n",
            "Title: Ode to My Socks, Poem URL: https://poets.org/poem/ode-my-socks, Poet: Pablo Neruda\n",
            "Title: Gate A-4, Poem URL: https://poets.org/poem/gate-4, Poet: Naomi Shihab Nye\n",
            "Title: anyone lived in a pretty how town, Poem URL: https://poets.org/poem/anyone-lived-pretty-how-town, Poet: E. E. Cummings\n",
            "Title: The Village Blacksmith, Poem URL: https://poets.org/poem/village-blacksmith, Poet: Henry Wadsworth Longfellow\n",
            "Title: [I wandered lonely as a Cloud], Poem URL: https://poets.org/poem/i-wandered-lonely-cloud, Poet: William Wordsworth\n",
            "Title: The Love Song of J. Alfred Prufrock, Poem URL: https://poets.org/poem/love-song-j-alfred-prufrock, Poet: T. S. Eliot\n",
            "Title: I taste a liquor never brewed (214), Poem URL: https://poets.org/poem/i-taste-liquor-never-brewed-214, Poet: Emily Dickinson\n",
            "Title: Dulce et Decorum Est, Poem URL: https://poets.org/poem/dulce-et-decorum-est, Poet: Wilfred Owen\n",
            "Title: For the Fallen, Poem URL: https://poets.org/poem/fallen, Poet: Laurence Binyon\n",
            "Title: Not to Keep, Poem URL: https://poets.org/poem/not-keep, Poet: Robert Frost\n",
            "Title: The Canterbury Tales, “The Nun’s Priest’s Tale” [Excerpt], Poem URL: https://poets.org/poem/canterbury-tales-nuns-priests-tale-excerpt, Poet: Geoffrey Chaucer\n",
            "Title: The Creation, Poem URL: https://poets.org/poem/creation, Poet: James Weldon Johnson\n",
            "Title: Dream Song 1, Poem URL: https://poets.org/poem/dream-song-1, Poet: John Berryman\n",
            "Title: We Real Cool, Poem URL: https://poets.org/poem/we-real-cool, Poet: Gwendolyn Brooks\n",
            "Title: My Heart Leaps Up, Poem URL: https://poets.org/poem/my-heart-leaps, Poet: William Wordsworth\n",
            "Title: I, Too, Poem URL: https://poets.org/poem/i-too, Poet: Langston Hughes\n",
            "Title: The Bells, Poem URL: https://poets.org/poem/bells, Poet: Edgar Allan Poe\n",
            "Title: A Far Cry from Africa, Poem URL: https://poets.org/poem/far-cry-africa, Poet: Derek Walcott\n",
            "Title: There Will Come Soft Rains, Poem URL: https://poets.org/poem/there-will-come-soft-rains, Poet: Sara Teasdale\n",
            "Title: somewhere i have never travelled,gladly beyond, Poem URL: https://poets.org/poem/somewhere-i-have-never-travelledgladly-beyond, Poet: E. E. Cummings\n",
            "Title: Hope is the thing with feathers (254), Poem URL: https://poets.org/poem/hope-thing-feathers-254, Poet: Emily Dickinson\n",
            "Title: Remember, Poem URL: https://poets.org/poem/remember-0, Poet: Joy Harjo\n",
            "Title: the poem is a dream telling you its time, Poem URL: https://poets.org/poem/poem-dream-telling-you-its-time, Poet: Marwa Helal\n",
            "Title: Diving into the Wreck, Poem URL: https://poets.org/poem/diving-wreck, Poet: Adrienne Rich\n",
            "Title: A Time to Talk, Poem URL: https://poets.org/poem/time-talk, Poet: Robert Frost\n",
            "Title: On Pain, Poem URL: https://poets.org/poem/pain-1, Poet: Kahlil Gibran\n",
            "Title: Elegy Written in a Country Churchyard, Poem URL: https://poets.org/poem/elegy-written-country-churchyard, Poet: Thomas Gray\n",
            "Title: In the chemo room, I wear mittens made of ice so I don’t lose my fingernails. But I took a risk today to write this down., Poem URL: https://poets.org/poem/chemo-room-i-wear-mittens-made-ice-so-i-dont-lose-my-fingernails-i-took-risk-today-write-down, Poet: Andrea Gibson\n",
            "Title: Trees, Poem URL: https://poets.org/poem/trees, Poet: Joyce Kilmer\n",
            "Title: On the Pulse of Morning, Poem URL: https://poets.org/poem/pulse-morning, Poet: Maya Angelou\n",
            "Title: Good Bones, Poem URL: https://poets.org/poem/good-bones, Poet: Maggie Smith\n",
            "Title: So we'll go no more a roving, Poem URL: https://poets.org/poem/so-well-go-no-more-roving, Poet: George Gordon Byron\n",
            "Title: To the Sea, Poem URL: https://poets.org/poem/sea-2, Poet: Anis Mojgani\n",
            "Title: Enough, Poem URL: https://poets.org/poem/enough-1, Poet: Andru Defeye\n"
          ]
        }
      ]
    }
  ]
}